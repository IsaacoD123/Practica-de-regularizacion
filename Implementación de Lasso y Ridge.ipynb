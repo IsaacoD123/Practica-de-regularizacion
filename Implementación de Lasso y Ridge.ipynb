{
 "cells": [
  {
   "cell_type": "code",
   "execution_count": 1,
   "id": "46d0e9d2",
   "metadata": {},
   "outputs": [],
   "source": [
    "import pandas as pd\n",
    "import sklearn"
   ]
  },
  {
   "cell_type": "code",
   "execution_count": 3,
   "id": "b4bb64d7",
   "metadata": {},
   "outputs": [],
   "source": [
    "from sklearn.linear_model import LinearRegression\n",
    "from sklearn.linear_model import Lasso\n",
    "from sklearn.linear_model import Ridge"
   ]
  },
  {
   "cell_type": "code",
   "execution_count": 4,
   "id": "5da4ac45",
   "metadata": {},
   "outputs": [],
   "source": [
    "from sklearn.model_selection import train_test_split\n",
    "from sklearn.metrics import mean_squared_error"
   ]
  },
  {
   "cell_type": "code",
   "execution_count": 5,
   "id": "22254c26",
   "metadata": {},
   "outputs": [],
   "source": [
    "dataset=\"https://static.platzi.com/media/tmp/class-files/git/profesional_scikitlearn_platzi/profesional_scikitlearn_platzi-implementacion_lasso_ridge/data/felicidad.csv\""
   ]
  },
  {
   "cell_type": "code",
   "execution_count": 6,
   "id": "49e7735c",
   "metadata": {},
   "outputs": [],
   "source": [
    "felicidad=pd.read_csv(dataset)"
   ]
  },
  {
   "cell_type": "code",
   "execution_count": 7,
   "id": "ca1dfc3d",
   "metadata": {},
   "outputs": [
    {
     "name": "stdout",
     "output_type": "stream",
     "text": [
      "(155, 7)\n",
      "(155, 1)\n"
     ]
    }
   ],
   "source": [
    "X=felicidad[[\"gdp\",\"family\",\"lifexp\",\"freedom\",\"corruption\",\"generosity\",\"dystopia\"]]\n",
    "y=felicidad[[\"score\"]]\n",
    "print(X.shape)\n",
    "print(y.shape)"
   ]
  },
  {
   "cell_type": "code",
   "execution_count": 10,
   "id": "b1fd0449",
   "metadata": {},
   "outputs": [],
   "source": [
    "X_train,X_test,y_train,y_test=train_test_split(X,y,test_size=0.25)\n",
    "modelLinear=LinearRegression().fit(X_train,y_train)\n",
    "y_predict_linear=modelLinear.predict(X_test)\n",
    "modelLasso=Lasso(alpha=0.02).fit(X_train,y_train)\n",
    "y_predict_lasso=modelLasso.predict(X_test)\n",
    "modelRidge=Ridge(alpha=1).fit(X_train,y_train)"
   ]
  },
  {
   "cell_type": "code",
   "execution_count": 11,
   "id": "f7542417",
   "metadata": {},
   "outputs": [],
   "source": [
    "y_predict_ridge=modelRidge.predict(X_test)"
   ]
  },
  {
   "cell_type": "code",
   "execution_count": 12,
   "id": "3df04b6a",
   "metadata": {},
   "outputs": [
    {
     "name": "stdout",
     "output_type": "stream",
     "text": [
      "Linear loss:  1.0116673953379892e-07\n"
     ]
    }
   ],
   "source": [
    "linear_loss=mean_squared_error(y_test,y_predict_linear)\n",
    "print(\"Linear loss: \", linear_loss)"
   ]
  },
  {
   "cell_type": "code",
   "execution_count": 13,
   "id": "a050a8f6",
   "metadata": {},
   "outputs": [
    {
     "name": "stdout",
     "output_type": "stream",
     "text": [
      "Lasso loss:  0.05359067072867274\n"
     ]
    }
   ],
   "source": [
    "lasso_loss=mean_squared_error(y_test,y_predict_lasso)\n",
    "print(\"Lasso loss: \", lasso_loss)"
   ]
  },
  {
   "cell_type": "code",
   "execution_count": 14,
   "id": "c3c4f4f8",
   "metadata": {},
   "outputs": [
    {
     "name": "stdout",
     "output_type": "stream",
     "text": [
      "Ridge loss:  0.006824577302254999\n"
     ]
    }
   ],
   "source": [
    "ridge_loss=mean_squared_error(y_test,y_predict_ridge)\n",
    "print(\"Ridge loss: \", ridge_loss)"
   ]
  },
  {
   "cell_type": "code",
   "execution_count": 15,
   "id": "6e4ae76c",
   "metadata": {},
   "outputs": [
    {
     "name": "stdout",
     "output_type": "stream",
     "text": [
      "COEF LASSO\n",
      "[1.31216605 0.87704996 0.46745497 0.72217623 0.         0.22898459\n",
      " 0.91151862]\n",
      "COEF RIDGE\n",
      "[[1.08505501 0.95388923 0.85581634 0.88696012 0.60383453 0.76344117\n",
      "  0.96439165]]\n"
     ]
    }
   ],
   "source": [
    "print(\"COEF LASSO\")\n",
    "print(modelLasso.coef_)\n",
    "\n",
    "print(\"COEF RIDGE\")\n",
    "print(modelRidge.coef_)"
   ]
  },
  {
   "cell_type": "code",
   "execution_count": null,
   "id": "dbd40333",
   "metadata": {},
   "outputs": [],
   "source": []
  }
 ],
 "metadata": {
  "kernelspec": {
   "display_name": "Python 3",
   "language": "python",
   "name": "python3"
  },
  "language_info": {
   "codemirror_mode": {
    "name": "ipython",
    "version": 3
   },
   "file_extension": ".py",
   "mimetype": "text/x-python",
   "name": "python",
   "nbconvert_exporter": "python",
   "pygments_lexer": "ipython3",
   "version": "3.8.8"
  }
 },
 "nbformat": 4,
 "nbformat_minor": 5
}
